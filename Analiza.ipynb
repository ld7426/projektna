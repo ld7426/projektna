{
 "cells": [
  {
   "cell_type": "markdown",
   "id": "c05ae652-22de-4800-ad89-de37ea939a85",
   "metadata": {},
   "source": [
    "\n",
    "# Analiza meteoroloških podatkov (vir : ARSO)\n",
    "## Uvoz podatkov\n",
    "\n",
    "Podatki so že prej bili naloženi s programoma <TT>prenos-identifikatorjev.py</TT> in <TT>podatki-posameznih-postaj.py</TT>, ki pa ju lahko poženemo tudi iz tega programa\n",
    "\n",
    "Datoteka <TT>slovar.csv</TT> vsebuje povezavo med imenom postaje in njenim identifikatorjem. \n",
    "\n",
    "V <i>/postaje/</i> so datoteke s podatki posameznih postaj po imenih <TT>HXXXX_t_30.html.csv</TT>, kjer XXXX predstavlja identifikacijsko številko postaje."
   ]
  },
  {
   "cell_type": "code",
   "execution_count": 38,
   "id": "e833b83f-de6e-4b0d-b014-63353bfcc78a",
   "metadata": {},
   "outputs": [],
   "source": [
    "%run prenos-identifikatorjev.py\n",
    "#%run podatki-posameznih-postaj.py #zakomentirana vrstica, saj prenos podatkov posameznih postaj traja nekaj minut\n",
    "#postaj je namreč 180 in vsaka vsebuje 1439 vrstic"
   ]
  },
  {
   "cell_type": "code",
   "execution_count": 56,
   "id": "aabae38b-20c5-485e-81ee-47d6859f7952",
   "metadata": {},
   "outputs": [],
   "source": [
    "import numpy as np\n",
    "import csv\n",
    "import matplotlib.pyplot as plt\n",
    "from IPython.display import display, Javascript\n",
    "import IPython\n",
    "from ipywidgets import interact\n",
    "import scipy\n",
    "import pandas as pd\n",
    "\n",
    "pd.options.display.max_rows = 30 #Koliko vrstic naenkrat prikaže pandas\n",
    "pd.options.display.min_rows = 16\n",
    "%matplotlib inline"
   ]
  },
  {
   "cell_type": "code",
   "execution_count": 57,
   "id": "c4855f05-e6c2-42e3-9fbe-9ebb7e575585",
   "metadata": {},
   "outputs": [],
   "source": [
    "slovar=[*csv.DictReader(open('slovar.csv'))] #odprem in shranim slovar od prej kot slovar tukaj"
   ]
  },
  {
   "cell_type": "code",
   "execution_count": 59,
   "id": "ce2c9748-f6c8-47b9-b0ed-6689fb81c165",
   "metadata": {},
   "outputs": [
    {
     "data": {
      "text/html": [
       "<div>\n",
       "<style scoped>\n",
       "    .dataframe tbody tr th:only-of-type {\n",
       "        vertical-align: middle;\n",
       "    }\n",
       "\n",
       "    .dataframe tbody tr th {\n",
       "        vertical-align: top;\n",
       "    }\n",
       "\n",
       "    .dataframe thead th {\n",
       "        text-align: right;\n",
       "    }\n",
       "</style>\n",
       "<table border=\"1\" class=\"dataframe\">\n",
       "  <thead>\n",
       "    <tr style=\"text-align: right;\">\n",
       "      <th></th>\n",
       "      <th>Reka</th>\n",
       "      <th>ID</th>\n",
       "    </tr>\n",
       "    <tr>\n",
       "      <th>Ime</th>\n",
       "      <th></th>\n",
       "      <th></th>\n",
       "    </tr>\n",
       "  </thead>\n",
       "  <tbody>\n",
       "    <tr>\n",
       "      <th>Gornja Radgona I</th>\n",
       "      <td>Mura</td>\n",
       "      <td>H1060</td>\n",
       "    </tr>\n",
       "    <tr>\n",
       "      <th>Petanjci</th>\n",
       "      <td>Mura</td>\n",
       "      <td>H1070</td>\n",
       "    </tr>\n",
       "    <tr>\n",
       "      <th>Cankova</th>\n",
       "      <td>Kučnica</td>\n",
       "      <td>H1100</td>\n",
       "    </tr>\n",
       "    <tr>\n",
       "      <th>Pristava</th>\n",
       "      <td>Ščavnica</td>\n",
       "      <td>H1140</td>\n",
       "    </tr>\n",
       "    <tr>\n",
       "      <th>Nuskova</th>\n",
       "      <td>Ledava</td>\n",
       "      <td>H1165</td>\n",
       "    </tr>\n",
       "    <tr>\n",
       "      <th>Polana I</th>\n",
       "      <td>Ledava</td>\n",
       "      <td>H1220</td>\n",
       "    </tr>\n",
       "    <tr>\n",
       "      <th>Čentiba</th>\n",
       "      <td>Ledava</td>\n",
       "      <td>H1260</td>\n",
       "    </tr>\n",
       "    <tr>\n",
       "      <th>Martjanci</th>\n",
       "      <td>Martjanski potok</td>\n",
       "      <td>H1300</td>\n",
       "    </tr>\n",
       "    <tr>\n",
       "      <th>...</th>\n",
       "      <td>...</td>\n",
       "      <td>...</td>\n",
       "    </tr>\n",
       "    <tr>\n",
       "      <th>Dolenje Jezero</th>\n",
       "      <td>Stržen</td>\n",
       "      <td>H5680</td>\n",
       "    </tr>\n",
       "    <tr>\n",
       "      <th>Postojnska jama</th>\n",
       "      <td>Pivka</td>\n",
       "      <td>H5820</td>\n",
       "    </tr>\n",
       "    <tr>\n",
       "      <th>Medlog</th>\n",
       "      <td>Savinja</td>\n",
       "      <td>H6120</td>\n",
       "    </tr>\n",
       "    <tr>\n",
       "      <th>Blate</th>\n",
       "      <td>Rakitnica</td>\n",
       "      <td>H7498</td>\n",
       "    </tr>\n",
       "    <tr>\n",
       "      <th>Koper</th>\n",
       "      <td>Jadransko morje</td>\n",
       "      <td>H9350</td>\n",
       "    </tr>\n",
       "    <tr>\n",
       "      <th>OB Piran (NIB)</th>\n",
       "      <td>Jadransko morje</td>\n",
       "      <td>H9400</td>\n",
       "    </tr>\n",
       "    <tr>\n",
       "      <th>Debeli Rtič (Zora)</th>\n",
       "      <td>Jadransko morje</td>\n",
       "      <td>H9410</td>\n",
       "    </tr>\n",
       "    <tr>\n",
       "      <th>Tržaški zaliv (Zarja)</th>\n",
       "      <td>Jadransko morje</td>\n",
       "      <td>H9420</td>\n",
       "    </tr>\n",
       "  </tbody>\n",
       "</table>\n",
       "<p>180 rows × 2 columns</p>\n",
       "</div>"
      ],
      "text/plain": [
       "                                   Reka     ID\n",
       "Ime                                           \n",
       "Gornja Radgona I                   Mura  H1060\n",
       "Petanjci                           Mura  H1070\n",
       "Cankova                         Kučnica  H1100\n",
       "Pristava                       Ščavnica  H1140\n",
       "Nuskova                          Ledava  H1165\n",
       "Polana I                         Ledava  H1220\n",
       "Čentiba                          Ledava  H1260\n",
       "Martjanci              Martjanski potok  H1300\n",
       "...                                 ...    ...\n",
       "Dolenje Jezero                   Stržen  H5680\n",
       "Postojnska jama                   Pivka  H5820\n",
       "Medlog                          Savinja  H6120\n",
       "Blate                         Rakitnica  H7498\n",
       "Koper                   Jadransko morje  H9350\n",
       "OB Piran (NIB)          Jadransko morje  H9400\n",
       "Debeli Rtič (Zora)      Jadransko morje  H9410\n",
       "Tržaški zaliv (Zarja)   Jadransko morje  H9420\n",
       "\n",
       "[180 rows x 2 columns]"
      ]
     },
     "execution_count": 59,
     "metadata": {},
     "output_type": "execute_result"
    }
   ],
   "source": [
    "slovarpd = pd.read_csv(\"slovar.csv\", encoding='mbcs', index_col=\"Ime\") #če pustim encoding prazen, torej na utf-8 mi da error\n",
    "slovarpd"
   ]
  },
  {
   "cell_type": "markdown",
   "id": "afbbc9a7-eedb-4f39-a5f4-366dacc299f1",
   "metadata": {},
   "source": [
    "Zdaj lahko izberemo naključno vrsico iz slovarja in analiziramo podatke te postaje"
   ]
  },
  {
   "cell_type": "code",
   "execution_count": 79,
   "id": "04e6015c-79e9-493c-a8cd-eeca7c28c5d8",
   "metadata": {},
   "outputs": [
    {
     "data": {
      "text/plain": [
       "['H7498']"
      ]
     },
     "execution_count": 79,
     "metadata": {},
     "output_type": "execute_result"
    }
   ],
   "source": [
    "izbrana_postaja = slovarpd.sample()\n",
    "izbrana_postaja[\"ID\"].tolist()"
   ]
  },
  {
   "cell_type": "code",
   "execution_count": 49,
   "id": "03b667d3-820b-4199-87bd-a9ef4263be0a",
   "metadata": {},
   "outputs": [
    {
     "data": {
      "text/plain": [
       "30"
      ]
     },
     "execution_count": 49,
     "metadata": {},
     "output_type": "execute_result"
    }
   ],
   "source": [
    "pd.options.display.max_rows"
   ]
  },
  {
   "cell_type": "code",
   "execution_count": 10,
   "id": "f5b48c06-f355-4a70-a355-ed3398fc75ae",
   "metadata": {},
   "outputs": [
    {
     "data": {
      "text/plain": [
       "180"
      ]
     },
     "execution_count": 10,
     "metadata": {},
     "output_type": "execute_result"
    }
   ],
   "source": [
    "len(slovar)"
   ]
  },
  {
   "cell_type": "code",
   "execution_count": 14,
   "id": "0be9586d-3768-4cc7-9540-b4a1f2c63e57",
   "metadata": {
    "scrolled": true
   },
   "outputs": [],
   "source": [
    "def spremeni_v_float(seznam):\n",
    "    \"\"\"\n",
    "    Funkcija, ki sprejme 2 dimenzionalen seznam (n,4) [datum, višina, pretok, temperatura] in vrne številčni 2d array [višina, pretok]\n",
    "\n",
    "    Vsak \"-\" v drugem in tretjem stolpcu spremeni v -1, da lahko potem s seznamom upravljamo kot s števili\n",
    "    \"\"\"\n",
    "    for indeks, i in enumerate(seznam):\n",
    "        for jndeks, j in enumerate(i):\n",
    "            if j=='-':\n",
    "                seznam[indeks, jndeks]=\"-1\"\n",
    "    #print(list(np.asfarray(seznam[1])))\n",
    "    novseznam = np.array([np.asfarray(seznam[1]), np.asfarray(seznam[2])])\n",
    "    \n",
    "                \n",
    "    #seznam[1::, 1] = np.asfarray(seznam[1::, 1]) ni hotelo delati iz nekega razloga, zato grem na loope\n",
    "    #seznam[1::, 2] = np.asfarray(seznam[1::, 2])\n",
    "    #seznam[1::, 3] = np.asfarray(seznam[1::, 3])\n",
    "\n",
    "    return novseznam "
   ]
  },
  {
   "cell_type": "code",
   "execution_count": 15,
   "id": "fd743f51-cba1-41aa-9936-86455389786b",
   "metadata": {},
   "outputs": [],
   "source": [
    "def dobi_podatke(ID):\n",
    "    \"\"\"\n",
    "    Funkcija, ki iz ID-ja pridobi tabelo za uporabo v spremeni_v_float\n",
    "    \"\"\"\n",
    "\n",
    "    arry = np.loadtxt(\"postaje/\" + ID + \".csv\",\n",
    "                 delimiter=\",\", dtype=str)\n",
    "\n",
    "    arry = np.transpose(np.delete(arry, 0, 0))\n",
    "    return arry"
   ]
  },
  {
   "cell_type": "code",
   "execution_count": 16,
   "id": "fc64794f-b9d5-411a-93fa-09af33953762",
   "metadata": {},
   "outputs": [],
   "source": [
    "arr = dobi_podatke(slovar[3][\"ID\"])\n",
    "arr = spremeni_v_float(arr)\n",
    "n = len(arr[0])"
   ]
  },
  {
   "cell_type": "code",
   "execution_count": 17,
   "id": "22b17c40-4a65-4ad0-b256-b831218b7a9b",
   "metadata": {},
   "outputs": [
    {
     "data": {
      "text/plain": [
       "array([[52.   , 52.   , 52.   , ..., 75.   , 75.   , 74.   ],\n",
       "       [ 0.648,  0.648,  0.648, ...,  1.55 ,  1.55 ,  1.5  ]])"
      ]
     },
     "execution_count": 17,
     "metadata": {},
     "output_type": "execute_result"
    }
   ],
   "source": [
    "arr"
   ]
  },
  {
   "cell_type": "code",
   "execution_count": 18,
   "id": "9d919a53-f870-4784-8d1c-72d6c773b5ff",
   "metadata": {},
   "outputs": [
    {
     "data": {
      "text/plain": [
       "array([], dtype=float64)"
      ]
     },
     "execution_count": 18,
     "metadata": {},
     "output_type": "execute_result"
    }
   ],
   "source": [
    "order = np.argsort(arr[1::,1])\n",
    "xs = np.array(arr[1::,1])[order][100:120]\n",
    "ys = np.array(arr[1::,2])[order]\n",
    "xs\n"
   ]
  },
  {
   "cell_type": "code",
   "execution_count": 19,
   "id": "a20fe85e-5687-40c6-be66-0ad0682d97ac",
   "metadata": {},
   "outputs": [
    {
     "data": {
      "application/vnd.jupyter.widget-view+json": {
       "model_id": "518ca8e47a2944bfa7a2043cc649182a",
       "version_major": 2,
       "version_minor": 0
      },
      "image/png": "[encoded data removed]",
      "text/html": [
       "\n",
       "            <div style=\"display: inline-block;\">\n",
       "                <div class=\"jupyter-widgets widget-label\" style=\"text-align: center;\">\n",
       "                    Figure\n",
       "                </div>\n",
       "                <img src='data:image/png;base64,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' width=640.0/>\n",
       "            </div>\n",
       "        "
      ],
      "text/plain": [
       "Canvas(toolbar=Toolbar(toolitems=[('Home', 'Reset original view', 'home', 'home'), ('Back', 'Back to previous …"
      ]
     },
     "metadata": {},
     "output_type": "display_data"
    }
   ],
   "source": [
    "order = np.argsort(arr[0])\n",
    "xs = np.array(arr[0])[order]\n",
    "ys = np.array(arr[1])[order]\n",
    "\n",
    "fig = plt.figure()\n",
    "ax = plt.subplot()\n",
    "\n",
    "fig.suptitle('title')\n",
    "plt.xlabel('x')\n",
    "plt.ylabel('y')\n",
    "\n",
    "ax.plot(xs, ys, label='desc' )\n",
    "plt.show()"
   ]
  },
  {
   "cell_type": "code",
   "execution_count": 20,
   "id": "1bc1821b-d643-433b-b4bb-5e91d1eb63ea",
   "metadata": {},
   "outputs": [
    {
     "name": "stdout",
     "output_type": "stream",
     "text": [
      "[ 0.00051744 -0.01953158  0.15553301]\n"
     ]
    },
    {
     "data": {
      "text/plain": [
       "[<matplotlib.lines.Line2D at 0x2963d58e210>]"
      ]
     },
     "execution_count": 20,
     "metadata": {},
     "output_type": "execute_result"
    }
   ],
   "source": [
    "fit = np.poly1d(np.polyfit(xs, ys, 2))\n",
    "print(np.polyfit(xs, ys, 2))\n",
    "x = np.linspace(-xs[-1], xs[-1], 200)\n",
    "plt.plot(x, fit(x))"
   ]
  },
  {
   "cell_type": "code",
   "execution_count": 21,
   "id": "dda1559c-7110-4352-b7a5-4dc6de650713",
   "metadata": {},
   "outputs": [
    {
     "data": {
      "text/plain": [
       "array([0.648])"
      ]
     },
     "execution_count": 21,
     "metadata": {},
     "output_type": "execute_result"
    }
   ],
   "source": [
    "np.asfarray(arr[1::, 1]).copy()"
   ]
  },
  {
   "cell_type": "code",
   "execution_count": 22,
   "id": "ea04c82e-0b8a-4d18-a608-28a01f96a130",
   "metadata": {},
   "outputs": [
    {
     "data": {
      "text/plain": [
       "array([0.648])"
      ]
     },
     "execution_count": 22,
     "metadata": {},
     "output_type": "execute_result"
    }
   ],
   "source": [
    "arr[1::, 1]"
   ]
  },
  {
   "cell_type": "code",
   "execution_count": 23,
   "id": "027d75a9-de6a-4ee6-821b-fb88d14219a2",
   "metadata": {},
   "outputs": [
    {
     "data": {
      "text/plain": [
       "1439"
      ]
     },
     "execution_count": 23,
     "metadata": {},
     "output_type": "execute_result"
    }
   ],
   "source": [
    "n"
   ]
  },
  {
   "cell_type": "code",
   "execution_count": 24,
   "id": "6fc618f6-e815-4b0b-be12-e3eb82155ace",
   "metadata": {},
   "outputs": [
    {
     "data": {
      "text/plain": [
       "[<matplotlib.lines.Line2D at 0x2963d647cd0>]"
      ]
     },
     "execution_count": 24,
     "metadata": {},
     "output_type": "execute_result"
    }
   ],
   "source": [
    "plt.plot(np.linspace(0,1, n), arr[1])"
   ]
  },
  {
   "cell_type": "markdown",
   "id": "753f5ef8-6246-4ecd-9bbd-df90f41a2e06",
   "metadata": {},
   "source": [
    "{'Ime': 'Celje II', 'Reka': 'Savinja', 'ID': 'H6140_t_30.html'}\n",
    "{'Ime': 'Celje II', 'Reka': 'Voglajna', 'ID': 'H6720_t_30.html'}\n",
    "'Ime': 'Laško', 'Reka': 'Savinja', 'ID': 'H6200_t_30.html'}"
   ]
  },
  {
   "cell_type": "code",
   "execution_count": 25,
   "id": "5566c817-5957-4ef8-b79b-f7b03e9f6cdc",
   "metadata": {},
   "outputs": [],
   "source": [
    "savinja = ['H6140_t_30.html', 'H6720_t_30.html', 'H6200_t_30.html'] #savinja v celju, voglajna v Celju, savinja v laškem"
   ]
  },
  {
   "cell_type": "code",
   "execution_count": 26,
   "id": "83c6eae2-5a69-4acf-9446-e7a9063d90e7",
   "metadata": {},
   "outputs": [],
   "source": [
    "pretoki_savinje = [spremeni_v_float(dobi_podatke(i)) for i in savinja]"
   ]
  },
  {
   "cell_type": "code",
   "execution_count": 27,
   "id": "b4f4dba8-d84b-4baf-aac0-a82eff4cb5e2",
   "metadata": {},
   "outputs": [],
   "source": [
    "%matplotlib inline\n",
    "#%matplotlib inline"
   ]
  },
  {
   "cell_type": "code",
   "execution_count": 28,
   "id": "5df451f9-e681-4b2f-9f10-c864bb3774a9",
   "metadata": {},
   "outputs": [],
   "source": [
    "#%matplotlib notebook"
   ]
  },
  {
   "cell_type": "code",
   "execution_count": 19,
   "id": "30b5b99f-e185-403d-a90c-60036f3d3e58",
   "metadata": {},
   "outputs": [],
   "source": [
    "#%matplotlib widget"
   ]
  },
  {
   "cell_type": "code",
   "execution_count": 20,
   "id": "2a213a3c-21cb-4645-80d7-8d7812522661",
   "metadata": {},
   "outputs": [],
   "source": [
    "#%matplotlib ipympl"
   ]
  },
  {
   "cell_type": "code",
   "execution_count": 37,
   "id": "460a99a4-ffc6-4971-9742-68921df2b354",
   "metadata": {},
   "outputs": [
    {
     "data": {
      "application/vnd.jupyter.widget-view+json": {
       "model_id": "e1e56b123bd54cde939b2fafb956dcc1",
       "version_major": 2,
       "version_minor": 0
      },
      "text/plain": [
       "interactive(children=(IntSlider(value=500, description='w', max=1500, min=-500), IntSlider(value=200, descript…"
      ]
     },
     "metadata": {},
     "output_type": "display_data"
    },
    {
     "data": {
      "application/vnd.jupyter.widget-view+json": {
       "model_id": "44d13990f53642d49e33bdeaa086e0c1",
       "version_major": 2,
       "version_minor": 0
      },
      "image/png": "[encoded data removed]",
      "text/html": [
       "\n",
       "            <div style=\"display: inline-block;\">\n",
       "                <div class=\"jupyter-widgets widget-label\" style=\"text-align: center;\">\n",
       "                    Figure\n",
       "                </div>\n",
       "                <img src='data:image/png;base64,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' width=640.0/>\n",
       "            </div>\n",
       "        "
      ],
      "text/plain": [
       "Canvas(toolbar=Toolbar(toolitems=[('Home', 'Reset original view', 'home', 'home'), ('Back', 'Back to previous …"
      ]
     },
     "metadata": {},
     "output_type": "display_data"
    }
   ],
   "source": [
    "%matplotlib widget\n",
    "from ipywidgets import *\n",
    "import numpy as np\n",
    "import matplotlib.pyplot as plt\n",
    "\n",
    "x = np.linspace(0,1, 200)\n",
    "fig = plt.figure()\n",
    "ax = fig.add_subplot(1, 1, 1)\n",
    "#line, = ax.plot(x, pretoki_savinje[0][1][500:500+200])\n",
    "\n",
    "def update(w = 500, dolz = 200):\n",
    "    line.set_ydata(pretoki_savinje[0][1][w:w+dolz], pretoki_savinje[2][1][w:w+dolz])\n",
    "    line.set_xdata(np.linspace(0, 1, dolz))\n",
    "    fig.canvas.draw_idle()\n",
    "\n",
    "interact(update);"
   ]
  },
  {
   "cell_type": "code",
   "execution_count": 21,
   "id": "a51dd7fb-f764-4453-ac67-f59de3b125c6",
   "metadata": {},
   "outputs": [
    {
     "data": {
      "image/png": "[encoded data removed]",
      "text/plain": [
       "<Figure size 640x480 with 1 Axes>"
      ]
     },
     "metadata": {},
     "output_type": "display_data"
    }
   ],
   "source": [
    "k=500\n",
    "dolz=200\n",
    "plt.plot(np.linspace(0,1, dolz), pretoki_savinje[0][1][k:k+dolz], color = \"red\", label = \"Celje II, Savinja\")\n",
    "#plt.plot(np.linspace(0,1, dolz), pretoki_savinje[1][1][k:k+dolz], color = \"green\", label = \"Celje II, Voglajna\")\n",
    "#plt.plot(np.linspace(0,1, dolz), pretoki_savinje[2][1][k:k+dolz], color = \"aqua\", label = \"Laško, Savinja\")\n",
    "plt.legend()\n",
    "plt.show()"
   ]
  },
  {
   "cell_type": "code",
   "execution_count": 22,
   "id": "b665a6c8-ea07-4b53-9cf5-24f85f0e69d1",
   "metadata": {},
   "outputs": [],
   "source": [
    "plt.close()"
   ]
  },
  {
   "cell_type": "code",
   "execution_count": 23,
   "id": "dd575fe7-f703-4286-a5d0-646a1a0e9942",
   "metadata": {},
   "outputs": [
    {
     "data": {
      "text/plain": [
       "[<matplotlib.lines.Line2D at 0x27a5be68590>]"
      ]
     },
     "execution_count": 23,
     "metadata": {},
     "output_type": "execute_result"
    },
    {
     "data": {
      "image/png": "[encoded data removed]",
      "text/plain": [
       "<Figure size 640x480 with 1 Axes>"
      ]
     },
     "metadata": {},
     "output_type": "display_data"
    }
   ],
   "source": [
    "c = pretoki_savinje[2][1]-pretoki_savinje[0][1] - pretoki_savinje[1][1]\n",
    "plt.plot(np.linspace(0,1, n), c)\n"
   ]
  },
  {
   "cell_type": "code",
   "execution_count": 102,
   "id": "7070a0db-f4f2-417f-ba92-d227c31d6dbd",
   "metadata": {},
   "outputs": [],
   "source": [
    "def casovna_razlika(prvi, drugi):\n",
    "    \"\"\"\n",
    "    Funkcija ki pogleda dva enako velika np.arraya in poskusi ugotoviti zamik med njima\n",
    "    \"\"\"\n",
    "    konst = 0.0 \n",
    "    zamik = 0\n",
    "    n = len(prvi)\n",
    "    if n!=len(drugi):\n",
    "        RaiseException(\"Seznama se morata ujemati po dolžini\")\n",
    "        print(hmm)\n",
    "    \n",
    "    def kvadratna_razlika(zamik):\n",
    "        \"\"\"\n",
    "        Izračun razlike\n",
    "        prvi in drugi sta že definirana v casovna_razlika, funkcija se ne more uporabljati izven tega\n",
    "        \"\"\"\n",
    "        if zamik>=0:\n",
    "            izracun = np.sum((prvi[0:n-zamik:]-drugi[zamik::])**2/(n-zamik)**2)\n",
    "            #pogledamo kvadrat razlike, ga normaliziramo, da se zmanjša vpliv tega, da je manj podatkov pri večjem zamiku, odštejemo konstanto, za katero \n",
    "        else:\n",
    "            izracun = np.sum((prvi[-zamik::]-drugi[0:n+zamik:])**2/(n+zamik)**2)\n",
    "            #zamik je lahko v eno ali drugo smer\n",
    "        return izracun\n",
    "\n",
    "    seznam_razlik = [kvadratna_razlika(i) for i in np.arange(-10, 11)]\n",
    "    \n",
    "    \n",
    "    return seznam_razlik"
   ]
  },
  {
   "cell_type": "code",
   "execution_count": 103,
   "id": "0961b44e-44b2-4af2-af9a-2b6d6bc14492",
   "metadata": {},
   "outputs": [
    {
     "data": {
      "text/plain": [
       "[31.134107236492802,\n",
       " 31.099406919917843,\n",
       " 31.066121254269905,\n",
       " 31.03410778923391,\n",
       " 31.00329400966599,\n",
       " 30.97379231137021,\n",
       " 30.94599372689483,\n",
       " 30.920226967847285,\n",
       " 30.896569897901134,\n",
       " 30.874957821346293,\n",
       " 30.855352071741677,\n",
       " 30.92276116856446,\n",
       " 30.992312946465056,\n",
       " 31.063837506909955,\n",
       " 31.137019603563967,\n",
       " 31.211615801178883,\n",
       " 31.28714487535556,\n",
       " 31.363137172903954,\n",
       " 31.439237529745416,\n",
       " 31.51524329397476,\n",
       " 31.591099705514733]"
      ]
     },
     "execution_count": 103,
     "metadata": {},
     "output_type": "execute_result"
    }
   ],
   "source": [
    "casovna_razlika(pretoki_savinje[0][1], pretoki_savinje[1][1])"
   ]
  },
  {
   "cell_type": "code",
   "execution_count": 87,
   "id": "971944b5-22cd-4536-86f8-1753a4f06873",
   "metadata": {},
   "outputs": [
    {
     "data": {
      "text/plain": [
       "1439"
      ]
     },
     "execution_count": 87,
     "metadata": {},
     "output_type": "execute_result"
    }
   ],
   "source": [
    "len(pretoki_savinje[1][1])"
   ]
  },
  {
   "cell_type": "code",
   "execution_count": 90,
   "id": "90c3985d-959d-417b-b574-2eb968e45314",
   "metadata": {},
   "outputs": [
    {
     "data": {
      "text/plain": [
       "1429"
      ]
     },
     "execution_count": 90,
     "metadata": {},
     "output_type": "execute_result"
    }
   ],
   "source": [
    "len(pretoki_savinje[1][1][10::])"
   ]
  },
  {
   "cell_type": "code",
   "execution_count": 91,
   "id": "b1261ded-1884-4181-b24f-7f7eb9d2124e",
   "metadata": {},
   "outputs": [
    {
     "data": {
      "text/plain": [
       "1429"
      ]
     },
     "execution_count": 91,
     "metadata": {},
     "output_type": "execute_result"
    }
   ],
   "source": [
    "len(pretoki_savinje[1][1][0:n-10:])"
   ]
  },
  {
   "cell_type": "code",
   "execution_count": 96,
   "id": "ac6cfa90-9b2d-4e90-8465-c9d8b741a40e",
   "metadata": {},
   "outputs": [
    {
     "data": {
      "text/plain": [
       "array([0.01    , 0.01    , 0.01    , ..., 0.005184, 0.      , 0.      ])"
      ]
     },
     "execution_count": 96,
     "metadata": {},
     "output_type": "execute_result"
    }
   ],
   "source": [
    "(pretoki_savinje[1][1][10::]-pretoki_savinje[1][1][0:n-10:])**2"
   ]
  },
  {
   "cell_type": "code",
   "execution_count": 83,
   "id": "2c484b27-dff0-4883-bcc3-522103868d02",
   "metadata": {},
   "outputs": [
    {
     "data": {
      "text/plain": [
       "array([-10,  -9,  -8,  -7,  -6,  -5,  -4,  -3,  -2,  -1,   0,   1,   2,\n",
       "         3,   4,   5,   6,   7,   8,   9,  10])"
      ]
     },
     "execution_count": 83,
     "metadata": {},
     "output_type": "execute_result"
    }
   ],
   "source": [
    "np.arange(-10, 11)"
   ]
  },
  {
   "cell_type": "code",
   "execution_count": 69,
   "id": "488979db-d09f-4936-a2c4-498f24ad0a6d",
   "metadata": {},
   "outputs": [],
   "source": [
    "def slika(k=1, dolz = 200, ):\n",
    "    n = len(pretoki_savinje[0][1])\n",
    "    plt.clf()\n",
    "    plt.plot(np.linspace(0,1, min(dolz, n-k)), pretoki_savinje[0][1][k:min(k+dolz, n)], label = \"Celje II, Savinja\")\n",
    "    plt.plot(np.linspace(0,1, min(dolz, n-k)), pretoki_savinje[1][1][k:min(k+dolz, n)], label = \"Celje II, Voglajna\")\n",
    "    plt.plot(np.linspace(0,1, min(dolz, n-k)), pretoki_savinje[2][1][k:min(k+dolz, n)], label = \"Laško - Savinja\")\n",
    "    #plt.ylim(-5, 5)\n",
    "    plt.show()"
   ]
  },
  {
   "cell_type": "code",
   "execution_count": 73,
   "id": "701d1a18-3378-4211-b9f8-a09adb4de160",
   "metadata": {},
   "outputs": [
    {
     "data": {
      "application/vnd.jupyter.widget-view+json": {
       "model_id": "6204cc756d3948fb8313fc50e70a844b",
       "version_major": 2,
       "version_minor": 0
      },
      "text/plain": [
       "interactive(children=(IntSlider(value=500, description='Začetek', max=1400, min=1), IntSlider(value=200, descr…"
      ]
     },
     "metadata": {},
     "output_type": "display_data"
    }
   ],
   "source": [
    "interact(slika, k=widgets.IntSlider(min=1, max=1400, step=1, value=500, description = \"Začetek\"), dolz = widgets.IntSlider(min=20, max=1400, step=1, value=200, description = \"Trajanje\") );"
   ]
  },
  {
   "cell_type": "code",
   "execution_count": 29,
   "id": "db6dd3bd-83e0-4b39-a62e-d31e5ca21919",
   "metadata": {},
   "outputs": [],
   "source": [
    "plt.close()"
   ]
  },
  {
   "cell_type": "code",
   "execution_count": 29,
   "id": "2f8d00bb-77e7-45d7-98a1-32485de1b647",
   "metadata": {},
   "outputs": [],
   "source": [
    "plt.close()"
   ]
  },
  {
   "cell_type": "code",
   "execution_count": 13,
   "id": "d200a55a-02a0-4771-85a5-10ca8bef25dd",
   "metadata": {},
   "outputs": [
    {
     "ename": "AttributeError",
     "evalue": "'DataFrame' object has no attribute 'title'",
     "output_type": "error",
     "traceback": [
      "\u001b[1;31m---------------------------------------------------------------------------\u001b[0m",
      "\u001b[1;31mAttributeError\u001b[0m                            Traceback (most recent call last)",
      "Cell \u001b[1;32mIn[13], line 3\u001b[0m\n\u001b[0;32m      1\u001b[0m \u001b[38;5;28;01mimport\u001b[39;00m \u001b[38;5;21;01mpandas\u001b[39;00m \u001b[38;5;28;01mas\u001b[39;00m \u001b[38;5;21;01mpd\u001b[39;00m\n\u001b[0;32m      2\u001b[0m knjige \u001b[38;5;241m=\u001b[39m pd\u001b[38;5;241m.\u001b[39mread_csv(\u001b[38;5;124m'\u001b[39m\u001b[38;5;124mpostaje/H6200_t_30.html.csv\u001b[39m\u001b[38;5;124m'\u001b[39m, index_col\u001b[38;5;241m=\u001b[39m\u001b[38;5;124m'\u001b[39m\u001b[38;5;124mDatum\u001b[39m\u001b[38;5;124m'\u001b[39m)\n\u001b[1;32m----> 3\u001b[0m \u001b[43mknjige\u001b[49m\u001b[38;5;241;43m.\u001b[39;49m\u001b[43mtitle\u001b[49m()\n",
      "File \u001b[1;32m~\\AppData\\Local\\Packages\\PythonSoftwareFoundation.Python.3.11_qbz5n2kfra8p0\\LocalCache\\local-packages\\Python311\\site-packages\\pandas\\core\\generic.py:5989\u001b[0m, in \u001b[0;36mNDFrame.__getattr__\u001b[1;34m(self, name)\u001b[0m\n\u001b[0;32m   5982\u001b[0m \u001b[38;5;28;01mif\u001b[39;00m (\n\u001b[0;32m   5983\u001b[0m     name \u001b[38;5;129;01mnot\u001b[39;00m \u001b[38;5;129;01min\u001b[39;00m \u001b[38;5;28mself\u001b[39m\u001b[38;5;241m.\u001b[39m_internal_names_set\n\u001b[0;32m   5984\u001b[0m     \u001b[38;5;129;01mand\u001b[39;00m name \u001b[38;5;129;01mnot\u001b[39;00m \u001b[38;5;129;01min\u001b[39;00m \u001b[38;5;28mself\u001b[39m\u001b[38;5;241m.\u001b[39m_metadata\n\u001b[0;32m   5985\u001b[0m     \u001b[38;5;129;01mand\u001b[39;00m name \u001b[38;5;129;01mnot\u001b[39;00m \u001b[38;5;129;01min\u001b[39;00m \u001b[38;5;28mself\u001b[39m\u001b[38;5;241m.\u001b[39m_accessors\n\u001b[0;32m   5986\u001b[0m     \u001b[38;5;129;01mand\u001b[39;00m \u001b[38;5;28mself\u001b[39m\u001b[38;5;241m.\u001b[39m_info_axis\u001b[38;5;241m.\u001b[39m_can_hold_identifiers_and_holds_name(name)\n\u001b[0;32m   5987\u001b[0m ):\n\u001b[0;32m   5988\u001b[0m     \u001b[38;5;28;01mreturn\u001b[39;00m \u001b[38;5;28mself\u001b[39m[name]\n\u001b[1;32m-> 5989\u001b[0m \u001b[38;5;28;01mreturn\u001b[39;00m \u001b[38;5;28;43mobject\u001b[39;49m\u001b[38;5;241;43m.\u001b[39;49m\u001b[38;5;21;43m__getattribute__\u001b[39;49m\u001b[43m(\u001b[49m\u001b[38;5;28;43mself\u001b[39;49m\u001b[43m,\u001b[49m\u001b[43m \u001b[49m\u001b[43mname\u001b[49m\u001b[43m)\u001b[49m\n",
      "\u001b[1;31mAttributeError\u001b[0m: 'DataFrame' object has no attribute 'title'"
     ]
    }
   ],
   "source": [
    "import pandas as pd\n",
    "knjige = pd.read_csv('postaje/H6200_t_30.html.csv', index_col='Datum')\n",
    "knjige.title()"
   ]
  },
  {
   "cell_type": "code",
   "execution_count": null,
   "id": "5cf17c0c-992c-416e-99cd-f7a8f75ecf00",
   "metadata": {},
   "outputs": [],
   "source": []
  }
 ],
 "metadata": {
  "kernelspec": {
   "display_name": "Python 3 (ipykernel)",
   "language": "python",
   "name": "python3"
  },
  "language_info": {
   "codemirror_mode": {
    "name": "ipython",
    "version": 3
   },
   "file_extension": ".py",
   "mimetype": "text/x-python",
   "name": "python",
   "nbconvert_exporter": "python",
   "pygments_lexer": "ipython3",
   "version": "3.11.5"
  }
 },
 "nbformat": 4,
 "nbformat_minor": 5
}
